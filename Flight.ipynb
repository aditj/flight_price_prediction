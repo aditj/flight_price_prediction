{
 "cells": [
  {
   "cell_type": "markdown",
   "metadata": {},
   "source": [
    "## Importing Libraries"
   ]
  },
  {
   "cell_type": "code",
   "execution_count": 65,
   "metadata": {},
   "outputs": [],
   "source": [
    "import pandas as pd\n",
    "import numpy as np\n",
    "from sklearn.preprocessing import LabelEncoder\n",
    "from sklearn.preprocessing import OneHotEncoder\n",
    "from sklearn.feature_extraction import FeatureHasher\n",
    "from sklearn.model_selection import train_test_split\n",
    "from sklearn import linear_model\n",
    "from datetime import datetime\n",
    "from sklearn.metrics import accuracy_score"
   ]
  },
  {
   "cell_type": "markdown",
   "metadata": {},
   "source": [
    "## Reading data into csv files"
   ]
  },
  {
   "cell_type": "code",
   "execution_count": 66,
   "metadata": {},
   "outputs": [],
   "source": [
    "f_tdata= pd.read_csv('Data_Train.csv',parse_dates=[\"Date_of_Journey\",\"Arrival_Time\",\"Dep_Time\"])\n",
    "dft=pd.read_csv('Test_set.csv',parse_dates=[\"Date_of_Journey\",\"Arrival_Time\",\"Dep_Time\"])"
   ]
  },
  {
   "cell_type": "markdown",
   "metadata": {},
   "source": [
    "### Describes (incomplete) data\n"
   ]
  },
  {
   "cell_type": "code",
   "execution_count": 67,
   "metadata": {},
   "outputs": [
    {
     "data": {
      "text/html": [
       "<div>\n",
       "<style scoped>\n",
       "    .dataframe tbody tr th:only-of-type {\n",
       "        vertical-align: middle;\n",
       "    }\n",
       "\n",
       "    .dataframe tbody tr th {\n",
       "        vertical-align: top;\n",
       "    }\n",
       "\n",
       "    .dataframe thead th {\n",
       "        text-align: right;\n",
       "    }\n",
       "</style>\n",
       "<table border=\"1\" class=\"dataframe\">\n",
       "  <thead>\n",
       "    <tr style=\"text-align: right;\">\n",
       "      <th></th>\n",
       "      <th>Price</th>\n",
       "    </tr>\n",
       "  </thead>\n",
       "  <tbody>\n",
       "    <tr>\n",
       "      <th>count</th>\n",
       "      <td>10683.000000</td>\n",
       "    </tr>\n",
       "    <tr>\n",
       "      <th>mean</th>\n",
       "      <td>9087.064121</td>\n",
       "    </tr>\n",
       "    <tr>\n",
       "      <th>std</th>\n",
       "      <td>4611.359167</td>\n",
       "    </tr>\n",
       "    <tr>\n",
       "      <th>min</th>\n",
       "      <td>1759.000000</td>\n",
       "    </tr>\n",
       "    <tr>\n",
       "      <th>25%</th>\n",
       "      <td>5277.000000</td>\n",
       "    </tr>\n",
       "    <tr>\n",
       "      <th>50%</th>\n",
       "      <td>8372.000000</td>\n",
       "    </tr>\n",
       "    <tr>\n",
       "      <th>75%</th>\n",
       "      <td>12373.000000</td>\n",
       "    </tr>\n",
       "    <tr>\n",
       "      <th>max</th>\n",
       "      <td>79512.000000</td>\n",
       "    </tr>\n",
       "  </tbody>\n",
       "</table>\n",
       "</div>"
      ],
      "text/plain": [
       "              Price\n",
       "count  10683.000000\n",
       "mean    9087.064121\n",
       "std     4611.359167\n",
       "min     1759.000000\n",
       "25%     5277.000000\n",
       "50%     8372.000000\n",
       "75%    12373.000000\n",
       "max    79512.000000"
      ]
     },
     "execution_count": 67,
     "metadata": {},
     "output_type": "execute_result"
    }
   ],
   "source": [
    "f_tdata.describe()"
   ]
  },
  {
   "cell_type": "code",
   "execution_count": 69,
   "metadata": {
    "scrolled": true
   },
   "outputs": [
    {
     "data": {
      "text/html": [
       "<div>\n",
       "<style scoped>\n",
       "    .dataframe tbody tr th:only-of-type {\n",
       "        vertical-align: middle;\n",
       "    }\n",
       "\n",
       "    .dataframe tbody tr th {\n",
       "        vertical-align: top;\n",
       "    }\n",
       "\n",
       "    .dataframe thead th {\n",
       "        text-align: right;\n",
       "    }\n",
       "</style>\n",
       "<table border=\"1\" class=\"dataframe\">\n",
       "  <thead>\n",
       "    <tr style=\"text-align: right;\">\n",
       "      <th></th>\n",
       "      <th>Airline</th>\n",
       "      <th>Date_of_Journey</th>\n",
       "      <th>Source</th>\n",
       "      <th>Destination</th>\n",
       "      <th>Route</th>\n",
       "      <th>Dep_Time</th>\n",
       "      <th>Arrival_Time</th>\n",
       "      <th>Duration</th>\n",
       "      <th>Total_Stops</th>\n",
       "      <th>Additional_Info</th>\n",
       "    </tr>\n",
       "  </thead>\n",
       "  <tbody>\n",
       "    <tr>\n",
       "      <th>0</th>\n",
       "      <td>Jet Airways</td>\n",
       "      <td>2019-06-06</td>\n",
       "      <td>Delhi</td>\n",
       "      <td>Cochin</td>\n",
       "      <td>DEL → BOM → COK</td>\n",
       "      <td>2019-06-26 17:30:00</td>\n",
       "      <td>2019-06-07 04:25:00</td>\n",
       "      <td>10h 55m</td>\n",
       "      <td>1 stop</td>\n",
       "      <td>No info</td>\n",
       "    </tr>\n",
       "    <tr>\n",
       "      <th>1</th>\n",
       "      <td>IndiGo</td>\n",
       "      <td>2019-12-05</td>\n",
       "      <td>Kolkata</td>\n",
       "      <td>Banglore</td>\n",
       "      <td>CCU → MAA → BLR</td>\n",
       "      <td>2019-06-26 06:20:00</td>\n",
       "      <td>2019-06-26 10:20:00</td>\n",
       "      <td>4h</td>\n",
       "      <td>1 stop</td>\n",
       "      <td>No info</td>\n",
       "    </tr>\n",
       "    <tr>\n",
       "      <th>2</th>\n",
       "      <td>Jet Airways</td>\n",
       "      <td>2019-05-21</td>\n",
       "      <td>Delhi</td>\n",
       "      <td>Cochin</td>\n",
       "      <td>DEL → BOM → COK</td>\n",
       "      <td>2019-06-26 19:15:00</td>\n",
       "      <td>2019-05-22 19:00:00</td>\n",
       "      <td>23h 45m</td>\n",
       "      <td>1 stop</td>\n",
       "      <td>In-flight meal not included</td>\n",
       "    </tr>\n",
       "    <tr>\n",
       "      <th>3</th>\n",
       "      <td>Multiple carriers</td>\n",
       "      <td>2019-05-21</td>\n",
       "      <td>Delhi</td>\n",
       "      <td>Cochin</td>\n",
       "      <td>DEL → BOM → COK</td>\n",
       "      <td>2019-06-26 08:00:00</td>\n",
       "      <td>2019-06-26 21:00:00</td>\n",
       "      <td>13h</td>\n",
       "      <td>1 stop</td>\n",
       "      <td>No info</td>\n",
       "    </tr>\n",
       "    <tr>\n",
       "      <th>4</th>\n",
       "      <td>Air Asia</td>\n",
       "      <td>2019-06-24</td>\n",
       "      <td>Banglore</td>\n",
       "      <td>Delhi</td>\n",
       "      <td>BLR → DEL</td>\n",
       "      <td>2019-06-26 23:55:00</td>\n",
       "      <td>2019-06-25 02:45:00</td>\n",
       "      <td>2h 50m</td>\n",
       "      <td>non-stop</td>\n",
       "      <td>No info</td>\n",
       "    </tr>\n",
       "  </tbody>\n",
       "</table>\n",
       "</div>"
      ],
      "text/plain": [
       "             Airline Date_of_Journey    Source Destination            Route  \\\n",
       "0        Jet Airways      2019-06-06     Delhi      Cochin  DEL → BOM → COK   \n",
       "1             IndiGo      2019-12-05   Kolkata    Banglore  CCU → MAA → BLR   \n",
       "2        Jet Airways      2019-05-21     Delhi      Cochin  DEL → BOM → COK   \n",
       "3  Multiple carriers      2019-05-21     Delhi      Cochin  DEL → BOM → COK   \n",
       "4           Air Asia      2019-06-24  Banglore       Delhi        BLR → DEL   \n",
       "\n",
       "             Dep_Time        Arrival_Time Duration Total_Stops  \\\n",
       "0 2019-06-26 17:30:00 2019-06-07 04:25:00  10h 55m      1 stop   \n",
       "1 2019-06-26 06:20:00 2019-06-26 10:20:00       4h      1 stop   \n",
       "2 2019-06-26 19:15:00 2019-05-22 19:00:00  23h 45m      1 stop   \n",
       "3 2019-06-26 08:00:00 2019-06-26 21:00:00      13h      1 stop   \n",
       "4 2019-06-26 23:55:00 2019-06-25 02:45:00   2h 50m    non-stop   \n",
       "\n",
       "               Additional_Info  \n",
       "0                      No info  \n",
       "1                      No info  \n",
       "2  In-flight meal not included  \n",
       "3                      No info  \n",
       "4                      No info  "
      ]
     },
     "execution_count": 69,
     "metadata": {},
     "output_type": "execute_result"
    }
   ],
   "source": [
    "dft.head()"
   ]
  },
  {
   "cell_type": "markdown",
   "metadata": {},
   "source": [
    "Head of Data"
   ]
  },
  {
   "cell_type": "code",
   "execution_count": 70,
   "metadata": {},
   "outputs": [
    {
     "data": {
      "text/html": [
       "<div>\n",
       "<style scoped>\n",
       "    .dataframe tbody tr th:only-of-type {\n",
       "        vertical-align: middle;\n",
       "    }\n",
       "\n",
       "    .dataframe tbody tr th {\n",
       "        vertical-align: top;\n",
       "    }\n",
       "\n",
       "    .dataframe thead th {\n",
       "        text-align: right;\n",
       "    }\n",
       "</style>\n",
       "<table border=\"1\" class=\"dataframe\">\n",
       "  <thead>\n",
       "    <tr style=\"text-align: right;\">\n",
       "      <th></th>\n",
       "      <th>Airline</th>\n",
       "      <th>Date_of_Journey</th>\n",
       "      <th>Source</th>\n",
       "      <th>Destination</th>\n",
       "      <th>Route</th>\n",
       "      <th>Dep_Time</th>\n",
       "      <th>Arrival_Time</th>\n",
       "      <th>Duration</th>\n",
       "      <th>Total_Stops</th>\n",
       "      <th>Additional_Info</th>\n",
       "      <th>Price</th>\n",
       "    </tr>\n",
       "  </thead>\n",
       "  <tbody>\n",
       "    <tr>\n",
       "      <th>0</th>\n",
       "      <td>IndiGo</td>\n",
       "      <td>2019-03-24</td>\n",
       "      <td>Banglore</td>\n",
       "      <td>New Delhi</td>\n",
       "      <td>BLR → DEL</td>\n",
       "      <td>2019-06-26 22:20:00</td>\n",
       "      <td>2019-03-22 01:10:00</td>\n",
       "      <td>2h 50m</td>\n",
       "      <td>non-stop</td>\n",
       "      <td>No info</td>\n",
       "      <td>3897.0</td>\n",
       "    </tr>\n",
       "    <tr>\n",
       "      <th>1</th>\n",
       "      <td>Air India</td>\n",
       "      <td>2019-01-05</td>\n",
       "      <td>Kolkata</td>\n",
       "      <td>Banglore</td>\n",
       "      <td>CCU → IXR → BBI → BLR</td>\n",
       "      <td>2019-06-26 05:50:00</td>\n",
       "      <td>2019-06-26 13:15:00</td>\n",
       "      <td>7h 25m</td>\n",
       "      <td>2 stops</td>\n",
       "      <td>No info</td>\n",
       "      <td>7662.0</td>\n",
       "    </tr>\n",
       "    <tr>\n",
       "      <th>2</th>\n",
       "      <td>Jet Airways</td>\n",
       "      <td>2019-09-06</td>\n",
       "      <td>Delhi</td>\n",
       "      <td>Cochin</td>\n",
       "      <td>DEL → LKO → BOM → COK</td>\n",
       "      <td>2019-06-26 09:25:00</td>\n",
       "      <td>2019-06-10 04:25:00</td>\n",
       "      <td>19h</td>\n",
       "      <td>2 stops</td>\n",
       "      <td>No info</td>\n",
       "      <td>13882.0</td>\n",
       "    </tr>\n",
       "    <tr>\n",
       "      <th>3</th>\n",
       "      <td>IndiGo</td>\n",
       "      <td>2019-12-05</td>\n",
       "      <td>Kolkata</td>\n",
       "      <td>Banglore</td>\n",
       "      <td>CCU → NAG → BLR</td>\n",
       "      <td>2019-06-26 18:05:00</td>\n",
       "      <td>2019-06-26 23:30:00</td>\n",
       "      <td>5h 25m</td>\n",
       "      <td>1 stop</td>\n",
       "      <td>No info</td>\n",
       "      <td>6218.0</td>\n",
       "    </tr>\n",
       "    <tr>\n",
       "      <th>4</th>\n",
       "      <td>IndiGo</td>\n",
       "      <td>2019-01-03</td>\n",
       "      <td>Banglore</td>\n",
       "      <td>New Delhi</td>\n",
       "      <td>BLR → NAG → DEL</td>\n",
       "      <td>2019-06-26 16:50:00</td>\n",
       "      <td>2019-06-26 21:35:00</td>\n",
       "      <td>4h 45m</td>\n",
       "      <td>1 stop</td>\n",
       "      <td>No info</td>\n",
       "      <td>13302.0</td>\n",
       "    </tr>\n",
       "  </tbody>\n",
       "</table>\n",
       "</div>"
      ],
      "text/plain": [
       "       Airline Date_of_Journey    Source Destination                  Route  \\\n",
       "0       IndiGo      2019-03-24  Banglore   New Delhi              BLR → DEL   \n",
       "1    Air India      2019-01-05   Kolkata    Banglore  CCU → IXR → BBI → BLR   \n",
       "2  Jet Airways      2019-09-06     Delhi      Cochin  DEL → LKO → BOM → COK   \n",
       "3       IndiGo      2019-12-05   Kolkata    Banglore        CCU → NAG → BLR   \n",
       "4       IndiGo      2019-01-03  Banglore   New Delhi        BLR → NAG → DEL   \n",
       "\n",
       "             Dep_Time        Arrival_Time Duration Total_Stops  \\\n",
       "0 2019-06-26 22:20:00 2019-03-22 01:10:00   2h 50m    non-stop   \n",
       "1 2019-06-26 05:50:00 2019-06-26 13:15:00   7h 25m     2 stops   \n",
       "2 2019-06-26 09:25:00 2019-06-10 04:25:00      19h     2 stops   \n",
       "3 2019-06-26 18:05:00 2019-06-26 23:30:00   5h 25m      1 stop   \n",
       "4 2019-06-26 16:50:00 2019-06-26 21:35:00   4h 45m      1 stop   \n",
       "\n",
       "  Additional_Info    Price  \n",
       "0         No info   3897.0  \n",
       "1         No info   7662.0  \n",
       "2         No info  13882.0  \n",
       "3         No info   6218.0  \n",
       "4         No info  13302.0  "
      ]
     },
     "execution_count": 70,
     "metadata": {},
     "output_type": "execute_result"
    }
   ],
   "source": [
    "f_tdata.head()"
   ]
  },
  {
   "cell_type": "markdown",
   "metadata": {},
   "source": [
    "Null Values Across DataFrames"
   ]
  },
  {
   "cell_type": "code",
   "execution_count": 96,
   "metadata": {},
   "outputs": [],
   "source": [
    "dft['Additional_Info']=dft['Additional_Info'].fillna(\"No Info\")"
   ]
  },
  {
   "cell_type": "markdown",
   "metadata": {},
   "source": [
    "Null Values for \"Total Stops\" columns<br>\n",
    "Note that we find the null value for route as well"
   ]
  },
  {
   "cell_type": "code",
   "execution_count": 72,
   "metadata": {},
   "outputs": [
    {
     "data": {
      "text/html": [
       "<div>\n",
       "<style scoped>\n",
       "    .dataframe tbody tr th:only-of-type {\n",
       "        vertical-align: middle;\n",
       "    }\n",
       "\n",
       "    .dataframe tbody tr th {\n",
       "        vertical-align: top;\n",
       "    }\n",
       "\n",
       "    .dataframe thead th {\n",
       "        text-align: right;\n",
       "    }\n",
       "</style>\n",
       "<table border=\"1\" class=\"dataframe\">\n",
       "  <thead>\n",
       "    <tr style=\"text-align: right;\">\n",
       "      <th></th>\n",
       "      <th>Airline</th>\n",
       "      <th>Date_of_Journey</th>\n",
       "      <th>Source</th>\n",
       "      <th>Destination</th>\n",
       "      <th>Route</th>\n",
       "      <th>Dep_Time</th>\n",
       "      <th>Arrival_Time</th>\n",
       "      <th>Duration</th>\n",
       "      <th>Total_Stops</th>\n",
       "      <th>Additional_Info</th>\n",
       "      <th>Price</th>\n",
       "    </tr>\n",
       "  </thead>\n",
       "  <tbody>\n",
       "    <tr>\n",
       "      <th>9039</th>\n",
       "      <td>Air India</td>\n",
       "      <td>2019-06-05</td>\n",
       "      <td>Delhi</td>\n",
       "      <td>Cochin</td>\n",
       "      <td>NaN</td>\n",
       "      <td>2019-06-26 09:45:00</td>\n",
       "      <td>2019-05-07 09:25:00</td>\n",
       "      <td>23h 40m</td>\n",
       "      <td>NaN</td>\n",
       "      <td>No info</td>\n",
       "      <td>7480.0</td>\n",
       "    </tr>\n",
       "  </tbody>\n",
       "</table>\n",
       "</div>"
      ],
      "text/plain": [
       "        Airline Date_of_Journey Source Destination Route            Dep_Time  \\\n",
       "9039  Air India      2019-06-05  Delhi      Cochin   NaN 2019-06-26 09:45:00   \n",
       "\n",
       "            Arrival_Time Duration Total_Stops Additional_Info   Price  \n",
       "9039 2019-05-07 09:25:00  23h 40m         NaN         No info  7480.0  "
      ]
     },
     "execution_count": 72,
     "metadata": {},
     "output_type": "execute_result"
    }
   ],
   "source": [
    "f_tdata[f_tdata['Total_Stops'].isnull()]\n"
   ]
  },
  {
   "cell_type": "markdown",
   "metadata": {},
   "source": [
    "Finding other similar entries"
   ]
  },
  {
   "cell_type": "code",
   "execution_count": 73,
   "metadata": {},
   "outputs": [
    {
     "data": {
      "text/html": [
       "<div>\n",
       "<style scoped>\n",
       "    .dataframe tbody tr th:only-of-type {\n",
       "        vertical-align: middle;\n",
       "    }\n",
       "\n",
       "    .dataframe tbody tr th {\n",
       "        vertical-align: top;\n",
       "    }\n",
       "\n",
       "    .dataframe thead th {\n",
       "        text-align: right;\n",
       "    }\n",
       "</style>\n",
       "<table border=\"1\" class=\"dataframe\">\n",
       "  <thead>\n",
       "    <tr style=\"text-align: right;\">\n",
       "      <th></th>\n",
       "      <th>Airline</th>\n",
       "      <th>Date_of_Journey</th>\n",
       "      <th>Source</th>\n",
       "      <th>Destination</th>\n",
       "      <th>Route</th>\n",
       "      <th>Dep_Time</th>\n",
       "      <th>Arrival_Time</th>\n",
       "      <th>Duration</th>\n",
       "      <th>Total_Stops</th>\n",
       "      <th>Additional_Info</th>\n",
       "      <th>Price</th>\n",
       "    </tr>\n",
       "  </thead>\n",
       "  <tbody>\n",
       "    <tr>\n",
       "      <th>1616</th>\n",
       "      <td>Air India</td>\n",
       "      <td>2019-05-24</td>\n",
       "      <td>Delhi</td>\n",
       "      <td>Cochin</td>\n",
       "      <td>DEL → MAA → COK</td>\n",
       "      <td>2019-06-26 09:45:00</td>\n",
       "      <td>2019-05-25 09:25:00</td>\n",
       "      <td>23h 40m</td>\n",
       "      <td>1 stop</td>\n",
       "      <td>No info</td>\n",
       "      <td>7480.0</td>\n",
       "    </tr>\n",
       "    <tr>\n",
       "      <th>2554</th>\n",
       "      <td>Air India</td>\n",
       "      <td>2019-05-15</td>\n",
       "      <td>Delhi</td>\n",
       "      <td>Cochin</td>\n",
       "      <td>DEL → MAA → COK</td>\n",
       "      <td>2019-06-26 09:45:00</td>\n",
       "      <td>2019-05-16 09:25:00</td>\n",
       "      <td>23h 40m</td>\n",
       "      <td>1 stop</td>\n",
       "      <td>No info</td>\n",
       "      <td>7480.0</td>\n",
       "    </tr>\n",
       "    <tr>\n",
       "      <th>4351</th>\n",
       "      <td>Air India</td>\n",
       "      <td>2019-06-27</td>\n",
       "      <td>Delhi</td>\n",
       "      <td>Cochin</td>\n",
       "      <td>DEL → MAA → COK</td>\n",
       "      <td>2019-06-26 09:45:00</td>\n",
       "      <td>2019-06-28 09:25:00</td>\n",
       "      <td>23h 40m</td>\n",
       "      <td>1 stop</td>\n",
       "      <td>No info</td>\n",
       "      <td>7480.0</td>\n",
       "    </tr>\n",
       "    <tr>\n",
       "      <th>7896</th>\n",
       "      <td>Air India</td>\n",
       "      <td>2019-12-06</td>\n",
       "      <td>Delhi</td>\n",
       "      <td>Cochin</td>\n",
       "      <td>DEL → MAA → COK</td>\n",
       "      <td>2019-06-26 09:45:00</td>\n",
       "      <td>2019-06-13 09:25:00</td>\n",
       "      <td>23h 40m</td>\n",
       "      <td>1 stop</td>\n",
       "      <td>No info</td>\n",
       "      <td>7480.0</td>\n",
       "    </tr>\n",
       "    <tr>\n",
       "      <th>9039</th>\n",
       "      <td>Air India</td>\n",
       "      <td>2019-06-05</td>\n",
       "      <td>Delhi</td>\n",
       "      <td>Cochin</td>\n",
       "      <td>NaN</td>\n",
       "      <td>2019-06-26 09:45:00</td>\n",
       "      <td>2019-05-07 09:25:00</td>\n",
       "      <td>23h 40m</td>\n",
       "      <td>NaN</td>\n",
       "      <td>No info</td>\n",
       "      <td>7480.0</td>\n",
       "    </tr>\n",
       "  </tbody>\n",
       "</table>\n",
       "</div>"
      ],
      "text/plain": [
       "        Airline Date_of_Journey Source Destination            Route  \\\n",
       "1616  Air India      2019-05-24  Delhi      Cochin  DEL → MAA → COK   \n",
       "2554  Air India      2019-05-15  Delhi      Cochin  DEL → MAA → COK   \n",
       "4351  Air India      2019-06-27  Delhi      Cochin  DEL → MAA → COK   \n",
       "7896  Air India      2019-12-06  Delhi      Cochin  DEL → MAA → COK   \n",
       "9039  Air India      2019-06-05  Delhi      Cochin              NaN   \n",
       "\n",
       "                Dep_Time        Arrival_Time Duration Total_Stops  \\\n",
       "1616 2019-06-26 09:45:00 2019-05-25 09:25:00  23h 40m      1 stop   \n",
       "2554 2019-06-26 09:45:00 2019-05-16 09:25:00  23h 40m      1 stop   \n",
       "4351 2019-06-26 09:45:00 2019-06-28 09:25:00  23h 40m      1 stop   \n",
       "7896 2019-06-26 09:45:00 2019-06-13 09:25:00  23h 40m      1 stop   \n",
       "9039 2019-06-26 09:45:00 2019-05-07 09:25:00  23h 40m         NaN   \n",
       "\n",
       "     Additional_Info   Price  \n",
       "1616         No info  7480.0  \n",
       "2554         No info  7480.0  \n",
       "4351         No info  7480.0  \n",
       "7896         No info  7480.0  \n",
       "9039         No info  7480.0  "
      ]
     },
     "execution_count": 73,
     "metadata": {},
     "output_type": "execute_result"
    }
   ],
   "source": [
    "f_tdata.loc[(f_tdata['Airline']=='Air India')&(f_tdata['Source']=='Delhi')&(f_tdata['Destination']=='Cochin')&(f_tdata['Price']==7480.0)&(f_tdata['Dep_Time']=='09:45')]"
   ]
  },
  {
   "cell_type": "markdown",
   "metadata": {},
   "source": [
    "Filling Missing Values"
   ]
  },
  {
   "cell_type": "code",
   "execution_count": 74,
   "metadata": {},
   "outputs": [],
   "source": [
    "f_tdata.iloc[9039,4]=\"DEL → MAA → COK\""
   ]
  },
  {
   "cell_type": "code",
   "execution_count": 75,
   "metadata": {},
   "outputs": [],
   "source": [
    "f_tdata.iloc[9039,8]= '1 stop'"
   ]
  },
  {
   "cell_type": "markdown",
   "metadata": {},
   "source": [
    "### Checking datatypes of f_tdata"
   ]
  },
  {
   "cell_type": "code",
   "execution_count": 76,
   "metadata": {},
   "outputs": [
    {
     "data": {
      "text/plain": [
       "Airline                    object\n",
       "Date_of_Journey    datetime64[ns]\n",
       "Source                     object\n",
       "Destination                object\n",
       "Route                      object\n",
       "Dep_Time           datetime64[ns]\n",
       "Arrival_Time       datetime64[ns]\n",
       "Duration                   object\n",
       "Total_Stops                object\n",
       "Additional_Info            object\n",
       "Price                     float64\n",
       "dtype: object"
      ]
     },
     "execution_count": 76,
     "metadata": {},
     "output_type": "execute_result"
    }
   ],
   "source": [
    "f_tdata.dtypes"
   ]
  },
  {
   "cell_type": "markdown",
   "metadata": {},
   "source": [
    "### Converting f_tdata to date-time and making date of journey ordinal."
   ]
  },
  {
   "cell_type": "code",
   "execution_count": 77,
   "metadata": {},
   "outputs": [],
   "source": [
    "f_tdata['Arrival_Time'] = f_tdata['Arrival_Time'].dt.time\n",
    "f_tdata['Dep_Time'] = f_tdata['Dep_Time'].dt.time\n"
   ]
  },
  {
   "cell_type": "code",
   "execution_count": 79,
   "metadata": {},
   "outputs": [],
   "source": [
    "f_tdata['Date_of_Journey']=f_tdata.apply(lambda x:str(x['Date_of_Journey'].toordinal()),axis=1)\n",
    "dft['Date_of_Journey']=dft.apply(lambda x:str(x['Date_of_Journey'].toordinal()),axis=1)"
   ]
  },
  {
   "cell_type": "markdown",
   "metadata": {},
   "source": [
    "### Seeing which columns contain categorical data and converting them using OneHotEncoder Scheme."
   ]
  },
  {
   "cell_type": "code",
   "execution_count": 80,
   "metadata": {},
   "outputs": [
    {
     "data": {
      "text/plain": [
       "Index(['Airline', 'Date_of_Journey', 'Source', 'Destination', 'Route',\n",
       "       'Dep_Time', 'Arrival_Time', 'Duration', 'Total_Stops',\n",
       "       'Additional_Info', 'Price'],\n",
       "      dtype='object')"
      ]
     },
     "execution_count": 80,
     "metadata": {},
     "output_type": "execute_result"
    }
   ],
   "source": [
    "f_tdata.columns"
   ]
  },
  {
   "cell_type": "code",
   "execution_count": 81,
   "metadata": {},
   "outputs": [
    {
     "name": "stderr",
     "output_type": "stream",
     "text": [
      "/media/adit/5d04464b-934c-455c-af4f-f0e6a43d237d/conda/lib/python3.7/site-packages/sklearn/preprocessing/_encoders.py:368: FutureWarning: The handling of integer data will change in version 0.22. Currently, the categories are determined based on the range [0, max(values)], while in the future they will be determined based on the unique values.\n",
      "If you want the future behaviour and silence this warning, you can specify \"categories='auto'\".\n",
      "In case you used a LabelEncoder before this OneHotEncoder to convert the categories to integers, then you can now use the OneHotEncoder directly.\n",
      "  warnings.warn(msg, FutureWarning)\n"
     ]
    }
   ],
   "source": [
    "doj_le=LabelEncoder()\n",
    "doj_labels = doj_le.fit_transform(f_tdata['Date_of_Journey'])\n",
    "doj_ohe=OneHotEncoder()\n",
    "doj_feature_arr = doj_ohe.fit_transform(\n",
    "                              f_tdata[['Date_of_Journey']]).toarray()\n",
    "doj_feature_labels = list(doj_le.classes_)\n",
    "doj_features = pd.DataFrame(doj_feature_arr,\n",
    "                            columns=doj_feature_labels)\n",
    "f_tdata= pd.concat([f_tdata,doj_features],axis=1)\n",
    "line_le = LabelEncoder()\n",
    "line_labels = line_le.fit_transform(f_tdata['Airline'])\n",
    "line_ohe=OneHotEncoder()\n",
    "line_feature_arr = line_ohe.fit_transform(\n",
    "                              f_tdata[['Airline']]).toarray()\n",
    "line_feature_labels = list(line_le.classes_ )\n",
    "\n",
    "line_features = pd.DataFrame(line_feature_arr,\n",
    "                            columns=line_feature_labels)\n",
    "f_tdata= pd.concat([f_tdata,line_features],axis=1)\n",
    "src_le = LabelEncoder()\n",
    "src_labels = src_le.fit_transform(f_tdata['Source'])\n",
    "src_ohe=OneHotEncoder()\n",
    "\n",
    "src_feature_arr = src_ohe.fit_transform(\n",
    "                              f_tdata[['Source']]).toarray()\n",
    "src_feature_labels=list(src_le.classes_)\n",
    "src_features = pd.DataFrame(src_feature_arr,\n",
    "                            columns=src_feature_labels)\n",
    "f_tdata= pd.concat([f_tdata,src_features],axis=1)\n",
    "dest_le = LabelEncoder()\n",
    "dest_labels = dest_le.fit_transform(f_tdata['Destination'])\n",
    "dest_ohe=OneHotEncoder()\n",
    "dest_feature_arr = dest_ohe.fit_transform(\n",
    "                              f_tdata[['Destination']]).toarray()\n",
    "dest_feature_labels = list(dest_le.classes_+\" Destination\")\n",
    "dest_features = pd.DataFrame(dest_feature_arr,\n",
    "                            columns=dest_feature_labels)\n",
    "f_tdata= pd.concat([f_tdata,dest_features],axis=1)\n",
    "stops_le = LabelEncoder()\n",
    "stops_labels = stops_le.fit_transform(f_tdata['Total_Stops'])\n",
    "stops_ohe=OneHotEncoder()\n",
    "stops_feature_arr = stops_ohe.fit_transform(\n",
    "                              f_tdata[['Total_Stops']]).toarray()\n",
    "stops_feature_labels = list(stops_le.classes_)\n",
    "stops_features = pd.DataFrame(stops_feature_arr,\n",
    "                            columns=stops_feature_labels)\n",
    "f_tdata= pd.concat([f_tdata,stops_features],axis=1)\n",
    "\n",
    "add_le = LabelEncoder()\n",
    "add_labels = add_le.fit_transform(f_tdata['Additional_Info'])\n",
    "add_ohe=OneHotEncoder()\n",
    "add_feature_arr = add_ohe.fit_transform(\n",
    "                              f_tdata[['Additional_Info']]).toarray()\n",
    "add_feature_labels = list(add_le.classes_)\n",
    "add_features = pd.DataFrame(add_feature_arr,\n",
    "                            columns=add_feature_labels)\n",
    "f_tdata= pd.concat([f_tdata,add_features],axis=1)"
   ]
  },
  {
   "cell_type": "code",
   "execution_count": 82,
   "metadata": {},
   "outputs": [
    {
     "name": "stderr",
     "output_type": "stream",
     "text": [
      "/media/adit/5d04464b-934c-455c-af4f-f0e6a43d237d/conda/lib/python3.7/site-packages/sklearn/preprocessing/_encoders.py:368: FutureWarning: The handling of integer data will change in version 0.22. Currently, the categories are determined based on the range [0, max(values)], while in the future they will be determined based on the unique values.\n",
      "If you want the future behaviour and silence this warning, you can specify \"categories='auto'\".\n",
      "In case you used a LabelEncoder before this OneHotEncoder to convert the categories to integers, then you can now use the OneHotEncoder directly.\n",
      "  warnings.warn(msg, FutureWarning)\n"
     ]
    }
   ],
   "source": [
    "doj_ohe=OneHotEncoder()\n",
    "doj_feature_arr = doj_ohe.fit_transform(\n",
    "                              dft[['Date_of_Journey']]).toarray()\n",
    "doj_features = pd.DataFrame(doj_feature_arr,\n",
    "                            columns=doj_feature_labels)\n",
    "dft= pd.concat([dft,doj_features],axis=1)\n",
    "\n",
    "\n",
    "line_le = LabelEncoder()\n",
    "line_labels = line_le.fit_transform(dft['Airline'])\n",
    "line_ohe=OneHotEncoder()\n",
    "line_feature_arr = line_ohe.fit_transform(\n",
    "                              dft[['Airline']]).toarray()\n",
    "line_feature_labels = list(line_le.classes_ )\n",
    "\n",
    "line_features = pd.DataFrame(line_feature_arr,\n",
    "                            columns=line_feature_labels)\n",
    "dft= pd.concat([dft,line_features],axis=1)\n",
    "\n",
    "src_ohe=OneHotEncoder()\n",
    "src_feature_arr = src_ohe.fit_transform(\n",
    "                              dft[['Source']]).toarray()\n",
    "src_feature_labels = list(src_le.classes_ + \" Source\")\n",
    "src_features = pd.DataFrame(src_feature_arr,\n",
    "                            columns=src_feature_labels)\n",
    "dft= pd.concat([dft,src_features],axis=1)\n",
    "\n",
    "dest_ohe=OneHotEncoder()\n",
    "dest_feature_arr = dest_ohe.fit_transform(\n",
    "                              dft[['Destination']]).toarray()\n",
    "dest_feature_labels = list(dest_le.classes_+\" Destination\")\n",
    "dest_features = pd.DataFrame(dest_feature_arr,\n",
    "                            columns=dest_feature_labels)\n",
    "dft= pd.concat([dft,dest_features],axis=1)\n",
    "\n",
    "stops_ohe=OneHotEncoder()\n",
    "stops_feature_arr = stops_ohe.fit_transform(\n",
    "                              dft[['Total_Stops']]).toarray()\n",
    "stops_feature_labels = list(stops_le.classes_)\n",
    "stops_features = pd.DataFrame(stops_feature_arr,\n",
    "                            columns=stops_feature_labels)\n",
    "dft= pd.concat([dft,stops_features],axis=1)\n",
    "add_le = LabelEncoder()\n",
    "add_labels = add_le.fit_transform(dft['Additional_Info'])\n",
    "add_ohe=OneHotEncoder()\n",
    "add_feature_arr = add_ohe.fit_transform(\n",
    "                              dft[['Additional_Info']]).toarray()\n",
    "add_feature_labels = list(add_le.classes_)\n",
    "add_features = pd.DataFrame(add_feature_arr,\n",
    "                            columns=add_feature_labels)\n",
    "dft= pd.concat([dft,add_features],axis=1)"
   ]
  },
  {
   "cell_type": "markdown",
   "metadata": {},
   "source": [
    "## Fixing Columns of the testing dataset."
   ]
  },
  {
   "cell_type": "code",
   "execution_count": 87,
   "metadata": {},
   "outputs": [
    {
     "data": {
      "text/plain": [
       "78"
      ]
     },
     "execution_count": 87,
     "metadata": {},
     "output_type": "execute_result"
    }
   ],
   "source": [
    "data.columns.difference(dft.columns)\n",
    "len(dft_data.columns)"
   ]
  },
  {
   "cell_type": "code",
   "execution_count": 84,
   "metadata": {},
   "outputs": [],
   "source": [
    "columns=data.columns.difference(dft.columns)\n",
    "for i in columns:\n",
    "    dft[i]=0"
   ]
  },
  {
   "cell_type": "code",
   "execution_count": 98,
   "metadata": {},
   "outputs": [],
   "source": [
    "data= f_tdata.drop(['Airline','Total_Stops','Source','Date_of_Journey','Destination','Route','Additional_Info','Duration','Price','Dep_Time','Arrival_Time'],axis=1)\n",
    "dft_data= dft.drop(['Airline','Total_Stops','Source','Date_of_Journey','Destination','Route','Additional_Info','Duration','Dep_Time','Arrival_Time', 'Banglore', 'Chennai', 'Delhi', 'Kolkata', 'Mumbai'],axis=1)\n",
    "target=f_tdata['Price']"
   ]
  },
  {
   "cell_type": "markdown",
   "metadata": {},
   "source": [
    "## Creating a linear model using SGD Regressor and splitting the data set into training and testing set."
   ]
  },
  {
   "cell_type": "code",
   "execution_count": 88,
   "metadata": {},
   "outputs": [],
   "source": [
    "clf = linear_model.SGDRegressor(max_iter=1000)\n",
    "data_train, data_test, target_train, target_test = train_test_split(data,target, test_size = 0.30, random_state = 10)"
   ]
  },
  {
   "cell_type": "markdown",
   "metadata": {},
   "source": [
    "### Fiting the test data"
   ]
  },
  {
   "cell_type": "code",
   "execution_count": 99,
   "metadata": {},
   "outputs": [
    {
     "name": "stderr",
     "output_type": "stream",
     "text": [
      "/media/adit/5d04464b-934c-455c-af4f-f0e6a43d237d/conda/lib/python3.7/site-packages/sklearn/linear_model/stochastic_gradient.py:183: FutureWarning: max_iter and tol parameters have been added in SGDRegressor in 0.19. If max_iter is set but tol is left unset, the default value for tol in 0.19 and 0.20 will be None (which is equivalent to -infinity, so it has no effect) but will change in 0.21 to 1e-3. Specify tol to silence this warning.\n",
      "  FutureWarning)\n"
     ]
    },
    {
     "data": {
      "text/plain": [
       "SGDRegressor(alpha=0.0001, average=False, early_stopping=False, epsilon=0.1,\n",
       "       eta0=0.01, fit_intercept=True, l1_ratio=0.15,\n",
       "       learning_rate='invscaling', loss='squared_loss', max_iter=1000,\n",
       "       n_iter=None, n_iter_no_change=5, penalty='l2', power_t=0.25,\n",
       "       random_state=None, shuffle=True, tol=None, validation_fraction=0.1,\n",
       "       verbose=0, warm_start=False)"
      ]
     },
     "execution_count": 99,
     "metadata": {},
     "output_type": "execute_result"
    }
   ],
   "source": [
    "clf.fit(data, target)"
   ]
  },
  {
   "cell_type": "markdown",
   "metadata": {},
   "source": [
    "### Calculating R squared score for the model"
   ]
  },
  {
   "cell_type": "code",
   "execution_count": 100,
   "metadata": {},
   "outputs": [
    {
     "data": {
      "text/plain": [
       "0.747514627260193"
      ]
     },
     "execution_count": 100,
     "metadata": {},
     "output_type": "execute_result"
    }
   ],
   "source": [
    "clf.score(data_test,target_test)"
   ]
  },
  {
   "cell_type": "markdown",
   "metadata": {},
   "source": [
    "## Predicting for the test data and saving it as a xlsx file."
   ]
  },
  {
   "cell_type": "code",
   "execution_count": 101,
   "metadata": {},
   "outputs": [],
   "source": [
    "precti=clf.predict(dft_data)"
   ]
  },
  {
   "cell_type": "code",
   "execution_count": 102,
   "metadata": {},
   "outputs": [],
   "source": [
    "df=pd.DataFrame(precti)\n",
    "df.to_excel(\"output.xlsx\")"
   ]
  }
 ],
 "metadata": {
  "kernelspec": {
   "display_name": "Python 3",
   "language": "python",
   "name": "python3"
  },
  "language_info": {
   "codemirror_mode": {
    "name": "ipython",
    "version": 3
   },
   "file_extension": ".py",
   "mimetype": "text/x-python",
   "name": "python",
   "nbconvert_exporter": "python",
   "pygments_lexer": "ipython3",
   "version": "3.7.1"
  }
 },
 "nbformat": 4,
 "nbformat_minor": 2
}
